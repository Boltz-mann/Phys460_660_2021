{
 "cells": [
  {
   "cell_type": "markdown",
   "metadata": {},
   "source": [
    "## Autocorrelation Function Exercise: Is the NASDAQ a random walk?\n",
    "\n",
    "Let's do a little practice with coding auotcorrelation functions. We will use 45 years of the NASDAQ as our timeseries, and compute its autocorrelation function. Since we know what the correlations of a random walk look like (there aren't any), we might even make some money. (But I'm gonna go out on a limb here and guess that someone else already did this calculation.)\n",
    "\n",
    "Here is the pseudocode for computing an autocorrelation function for a dataseries `D[i]` with a total of N timepoints. `C[]` will hold the autocorrelation function, `n` counts the number of terms in the sum that contribute to the average $\\langle D[i]D[i+\\tau_{lag}] \\rangle$. \n",
    "\n",
    "Notice that if we set $\\tau_{lag}=0$, then we are computing $\\langle D^2 \\rangle$, i.e., the variance of $D$. It is customary to subtract off the average and normalize the autocorrelation function by its variance, so that the first point is equal to 1.0:\n",
    "\n",
    "$$C(\\tau_{lag}) = \\frac{\\langle D[i]D[i+\\tau_{lag}] \\rangle - \\langle D \\rangle^2 }{\\langle D[i]D[i]\\rangle -\\langle D \\rangle^2}$$\n",
    "\n",
    "\n",
    "for lag = 0, lag < max_lag, lag++\n",
    "    \n",
    "    set total=0\n",
    "    set n=0\n",
    "    for i=0,i< N-lag,i++\n",
    "        tmp = D[i]*D[i+lag]\n",
    "        total += tmp\n",
    "        n++\n",
    "    \n",
    "    C[lag] = sum/n\n",
    "\n",
    "\n",
    "Your tasks are to:\n",
    "1. Import the Nasdaq data and plot it to see what it looks like\n",
    "2. Write the code to compute the autocorrelation function as described above\n",
    "3. Plot the autocorrelation function.\n",
    "4. Do a \"fit\" (it can be an eyeball fit) to an exponential decay, and if it seems like a decent fit, report the time constant for the decay.\n",
    "\n",
    "This is your first homework exercise...but I am hoping we can get it done by the end of class! I include a little starter code below so you don't waste time learning how to import data in Python. (I use Pandas, which is overkill here, but a good library to know about.)\n",
    "\n",
    "What you need to turn in: Just a figure showing your correlation function, the fit to an exponential decay, and a caption that explains the figure and reports the time constant that you get from the fit. (I'll make a place to upload on Canvas.) The due date is the last day of class. "
   ]
  },
  {
   "cell_type": "code",
   "execution_count": null,
   "metadata": {},
   "outputs": [],
   "source": [
    "import pandas as pd\n",
    "import matplotlib.pyplot as plt\n",
    "import numpy as np\n",
    "\n",
    "df = pd.read_csv('nasdaq-historical-chart.csv')\n",
    "\n",
    "#df.head()\n",
    "df.columns = ['time', 'value']\n",
    "price_dat = df['value'].tolist()\n",
    "\n",
    "# total number of points in our timeseries is N\n",
    "N = len(price_dat)\n",
    "\n",
    "# now write the loop that computes the correlation function\n"
   ]
  },
  {
   "cell_type": "code",
   "execution_count": null,
   "metadata": {},
   "outputs": [],
   "source": []
  }
 ],
 "metadata": {
  "kernelspec": {
   "display_name": "Python 3",
   "language": "python",
   "name": "python3"
  },
  "language_info": {
   "codemirror_mode": {
    "name": "ipython",
    "version": 3
   },
   "file_extension": ".py",
   "mimetype": "text/x-python",
   "name": "python",
   "nbconvert_exporter": "python",
   "pygments_lexer": "ipython3",
   "version": "3.7.4"
  }
 },
 "nbformat": 4,
 "nbformat_minor": 2
}
